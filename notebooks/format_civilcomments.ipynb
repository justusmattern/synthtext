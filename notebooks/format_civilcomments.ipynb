{
 "cells": [
  {
   "cell_type": "code",
   "execution_count": 61,
   "metadata": {},
   "outputs": [],
   "source": [
    "from wilds import get_dataset\n",
    "from wilds.common.data_loaders import get_train_loader\n",
    "\n",
    "dataset = get_dataset(dataset=\"civilcomments\", download=True)\n",
    "train_data = dataset.get_subset(\"test\")"
   ]
  },
  {
   "cell_type": "code",
   "execution_count": 31,
   "metadata": {},
   "outputs": [],
   "source": [
    "train_loader = get_train_loader(\"standard\", train_data, batch_size=1)"
   ]
  },
  {
   "cell_type": "code",
   "execution_count": 13,
   "metadata": {},
   "outputs": [],
   "source": [
    "from wilds.common.grouper import CombinatorialGrouper\n"
   ]
  },
  {
   "cell_type": "code",
   "execution_count": 37,
   "metadata": {},
   "outputs": [],
   "source": [
    "grouper = CombinatorialGrouper(dataset, ['male', 'female', 'LGBTQ'])\n",
    "tox = 0\n",
    "i = 0\n",
    "for x, y_true, metadata in train_loader:\n",
    "    i+=1\n",
    "    tox += y_true\n"
   ]
  },
  {
   "cell_type": "code",
   "execution_count": 39,
   "metadata": {},
   "outputs": [
    {
     "data": {
      "text/plain": [
       "133782"
      ]
     },
     "execution_count": 39,
     "metadata": {},
     "output_type": "execute_result"
    }
   ],
   "source": [
    "i"
   ]
  },
  {
   "cell_type": "code",
   "execution_count": 22,
   "metadata": {},
   "outputs": [
    {
     "name": "stdout",
     "output_type": "stream",
     "text": [
      "tensor([47193])\n"
     ]
    }
   ],
   "source": [
    "print(z)"
   ]
  },
  {
   "cell_type": "code",
   "execution_count": null,
   "metadata": {},
   "outputs": [],
   "source": [
    "domains = ['male', 'female', 'LGBTQ', 'christian', 'muslim', 'other_religions', 'black', 'white']\n",
    "data = dict()\n",
    "for dom in domains:\n",
    "    data[dom] = dict()\n",
    "    data[dom]['toxic'] = []\n",
    "    data[dom]['neutral'] = []\n",
    "\n",
    "for x, y, meta in train_loader:\n",
    "    for i, val in enumerate(meta[0].tolist()[:8]):\n",
    "        if val == 1:\n",
    "            if y == 1:\n",
    "                data[domains[i]]['toxic'].append(x[0])\n",
    "            else:\n",
    "                data[domains[i]]['neutral'].append(x[0])\n"
   ]
  },
  {
   "cell_type": "code",
   "execution_count": 60,
   "metadata": {},
   "outputs": [],
   "source": [
    "for dom in domains:\n",
    "    for t in ['toxic', 'neutral']:\n",
    "        with open(f'../data/civilcomments/test/{dom}_{t}.txt', 'w') as f:\n",
    "            for text in data[dom][t]:\n",
    "                f.write(text.replace('\\n', ' ')+'\\n')"
   ]
  },
  {
   "cell_type": "code",
   "execution_count": null,
   "metadata": {},
   "outputs": [],
   "source": []
  }
 ],
 "metadata": {
  "interpreter": {
   "hash": "916dbcbb3f70747c44a77c7bcd40155683ae19c65e1c03b4aa3499c5328201f1"
  },
  "kernelspec": {
   "display_name": "Python 3.8.10 64-bit",
   "language": "python",
   "name": "python3"
  },
  "language_info": {
   "codemirror_mode": {
    "name": "ipython",
    "version": 3
   },
   "file_extension": ".py",
   "mimetype": "text/x-python",
   "name": "python",
   "nbconvert_exporter": "python",
   "pygments_lexer": "ipython3",
   "version": "3.8.10"
  },
  "orig_nbformat": 4
 },
 "nbformat": 4,
 "nbformat_minor": 2
}
